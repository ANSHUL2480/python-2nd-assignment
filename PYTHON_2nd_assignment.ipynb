{
  "nbformat": 4,
  "nbformat_minor": 0,
  "metadata": {
    "colab": {
      "provenance": []
    },
    "kernelspec": {
      "name": "python3",
      "display_name": "Python 3"
    },
    "language_info": {
      "name": "python"
    }
  },
  "cells": [
    {
      "cell_type": "markdown",
      "source": [
        "1.) What are data structures, and why are they important?\n",
        "\n",
        "Ans.) ● Data structures are specialized formats for organizing, processing, and storing data in a\n",
        "computer so it can be used efficiently. Common examples include arrays, linked lists, stacks,\n",
        "queues, trees, graphs, hash tables, and more.\n",
        "\n",
        " * why are they important\n",
        "\n",
        "a.) Efficiency: The right data structure can significantly improve the performance of algorithms by\n",
        "optimizing data access and storage.\n",
        "\n",
        "b.)Organization: They help manage and organize data in ways that reflect real-world relationships.\n",
        "\n",
        "c.)Reusability: Well-designed data structures can be reused across different programs or systems.\n",
        "\n",
        "d.)Scalability: Efficient data structures are crucial for handling large amounts of data smoothly.\n",
        "\n",
        "e.)Problem Solving: Many complex problems can be broken down and solved more easily using the\n",
        "appropriate data structure.\n",
        "\n",
        "2).Explain the difference between mutable and immutable data types with\n",
        "examples.\n",
        "\n",
        "Ans.)  Mutable Data Types:- Mutable data types can be changed after they are created. This means you\n",
        "can modify, add, or remove elements without changing the object’s identity.\n",
        "\n",
        "*Examples of Mutable Data Types in Python:\n",
        "\n",
        "● List\n",
        "\n",
        "● dictionary\n",
        "\n",
        "● set\n",
        "\n",
        "Example:"
      ],
      "metadata": {
        "id": "uv5g4iDtnBts"
      }
    },
    {
      "cell_type": "code",
      "source": [
        "my_list = [1, 2, 3]\n",
        "my_list.append(4)\n",
        "\n",
        "print(my_list)\n",
        "\n",
        "[1, 2, 3, 4]"
      ],
      "metadata": {
        "colab": {
          "base_uri": "https://localhost:8080/"
        },
        "id": "dm8BEZurojGu",
        "outputId": "68e435f4-1511-47f3-e109-1ea08747a6c7"
      },
      "execution_count": 1,
      "outputs": [
        {
          "output_type": "stream",
          "name": "stdout",
          "text": [
            "[1, 2, 3, 4]\n"
          ]
        },
        {
          "output_type": "execute_result",
          "data": {
            "text/plain": [
              "[1, 2, 3, 4]"
            ]
          },
          "metadata": {},
          "execution_count": 1
        }
      ]
    },
    {
      "cell_type": "markdown",
      "source": [
        "Immutable data types:- Immutable data types cannot be changed after they are created.\n",
        "Any\n",
        "operation that alters the data actually creates a new object\n",
        "\n",
        "*Example of immutable data types:\n",
        "\n",
        "● Integer\n",
        "\n",
        "● Float\n",
        "\n",
        "● String\n",
        "\n",
        "● Tuple\n",
        "\n",
        "● Boolean\n",
        "\n",
        "Example:"
      ],
      "metadata": {
        "id": "xiqeF-J7ovfZ"
      }
    },
    {
      "cell_type": "code",
      "source": [
        "my_string = \"hello\"\n",
        "my_string += \" world\"\n",
        "print(my_string)\n",
        "\n"
      ],
      "metadata": {
        "colab": {
          "base_uri": "https://localhost:8080/"
        },
        "id": "PVGSrIbgpB5w",
        "outputId": "6cb5b5ad-13e1-4811-bc9d-aeb740d1ab6a"
      },
      "execution_count": 75,
      "outputs": [
        {
          "output_type": "stream",
          "name": "stdout",
          "text": [
            "hello world\n"
          ]
        }
      ]
    },
    {
      "cell_type": "markdown",
      "source": [
        "3).What are the main differences between lists and tuples in Python?\n",
        "\n",
        "Ans.)● The main difference between lists and tuples in Python is that lists are mutable (can be\n",
        "changed after creation) while tuples are immutable (cannot be changed after creation).\n",
        "\n",
        "Mutability:-\n",
        "\n",
        "● List- You can add, remove, or modify elements in a list after it's created.\n",
        "\n",
        "● Tuples- Once a tuple is created, its elements cannot be changed.\n",
        "\n",
        "Syntax:-\n",
        "\n",
        "● List- Defined using square brackets [].\n",
        "\n",
        "● Tuples-Defined using parentheses ().\n",
        "\n",
        "Performance:-\n",
        "\n",
        "● List- Slower for iteration and more memory-intensive due to their mutability.\n",
        "\n",
        "● Tuples- Faster for iteration and more memory-efficient due to their immutability.\n",
        "\n",
        "Use Cases:-\n",
        "\n",
        "● List- Useful for situations where you need to modify the data structure, like adding or\n",
        "removing elements.\n",
        "\n",
        "● Tuples- Best used when you need to guarantee that the data structure remains constant, like\n",
        "representing fixed sets of data.\n",
        "\n",
        "4).Describe how dictionaries store data.\n",
        "\n",
        "Ans>)● Dictionaries store data using a key-value pair system, and under the hood, they typically use\n",
        "a data structure called a hash table. Here's a breakdown of how it works:-\n",
        "\n",
        "📘 Structure of a Dictionary:-\n",
        "\n",
        "A dictionary is made up of entries where:\n",
        "\n",
        "● Each key is unique.\n",
        "\n",
        "● Each key maps to a specific value.\n",
        "\n",
        "Example of python:\n"
      ],
      "metadata": {
        "id": "JAkHu-WFpR5-"
      }
    },
    {
      "cell_type": "code",
      "source": [
        "my_dict = {\"color\": \"blue\", \"size\": \"medium\"}"
      ],
      "metadata": {
        "id": "6PEKs_9iqWmD"
      },
      "execution_count": null,
      "outputs": []
    },
    {
      "cell_type": "markdown",
      "source": [
        "⚙️ How It Works Internally:-\n",
        "1. Hashing the Key:\n",
        "\n",
        "● When you add a key to a dictionary, the key is passed through a hash function.\n",
        "\n",
        "● This function returns a hash code (a number), which determines where to store the value in\n",
        "memory.\n",
        "\n",
        "2. Indexing:\n",
        "\n",
        "● The hash code is converted into an index in an internal array (the hash table).\n",
        "\n",
        "● The value is stored at that index.\n",
        "\n",
        "3. Fast Lookup:\n",
        "\n",
        "● When you access a value using a key, the key is hashed again to find the index.\n",
        "\n",
        "● The value at that index is returned quickly — usually in constant time, O(1).\n",
        "\n",
        "4. Collision Handling:\n",
        "\n",
        "● Two different keys might produce the same index (a collision).\n",
        "\n",
        "● Dictionaries use techniques like open addressing or chaining to resolve this and still store\n",
        "both values.\n",
        "\n",
        "5. Resizing:\n",
        "\n",
        "● As more items are added, the dictionary may need to resize its internal array to maintain\n",
        "performance.\n",
        "\n",
        "● This involves rehashing and moving entries to new positions.\n",
        "\n",
        "5.) Why might you use a set instead of a list in Python?\n",
        "\n",
        "● You might use a set instead of a list in Python for several reasons, depending on what you're\n",
        "trying to do. Here's a breakdown:-\n",
        "\n",
        "🔹 1. Uniqueness-\n",
        "\n",
        "● Sets automatically remove duplicates.\n",
        "\n",
        "● If you need a collection of unique items, a set is ideal.\n",
        "\n",
        "🔹 2. Faster Lookup-\n",
        "\n",
        "● Sets are optimized for fast membership tests.\n",
        "\n",
        "● Checking if an item is in a set is much faster than checking in a list, especially with large\n",
        "datasets.\n",
        "\n",
        "🔹 3. Set Operations-\n",
        "\n",
        "● Sets support operations like union, intersection, difference, and symmetric difference, which\n",
        "are super useful for comparing groups of data.\n",
        "\n",
        "🔹 4. Cleaner Code for Certain Tasks-\n",
        "\n",
        "● If you're doing something like removing duplicates, checking overlap, or ensuring\n",
        "membership uniqueness, a set leads to cleaner, more readable code\n",
        "\n",
        "6.) What is a string in Python, and how is it different from a list?\n",
        "\n",
        " Ans.)● In Python, a string is a sequence of characters enclosed in quotes, like \"hello\" or 'world'. A\n",
        "list, on the other hand, is a sequence of elements (which can be of any type) enclosed in\n",
        "square brackets, like [1, 2, 3] or ['a', 'b', 'c'].\n",
        "\n",
        "Here’s a breakdown of the differences between a string and a list:\n",
        "\n",
        "🔤 String-\n",
        "\n",
        "● Represents text.\n",
        "\n",
        "● Immutable (you can't change individual characters).\n",
        "\n",
        "● Each element is a character.\n",
        "\n",
        "● Defined using single ('...'), double (\"...\"), or triple quotes ('''...''' or \"\"\"...\"\"\" for multi-line strings).\n"
      ],
      "metadata": {
        "id": "W93tApbJqg7v"
      }
    },
    {
      "cell_type": "code",
      "source": [
        "\n",
        "\n",
        "s = \"hello\"\n",
        "print(s[1])"
      ],
      "metadata": {
        "colab": {
          "base_uri": "https://localhost:8080/"
        },
        "id": "plOpvkIgsbIr",
        "outputId": "ee8e4b8d-3609-45e3-91b3-9211f8ca76f1"
      },
      "execution_count": 5,
      "outputs": [
        {
          "output_type": "stream",
          "name": "stdout",
          "text": [
            "e\n"
          ]
        }
      ]
    },
    {
      "cell_type": "markdown",
      "source": [
        "📋 List-\n",
        "\n",
        "● Represents a collection of items (any type: integers, strings, other lists, etc.).\n",
        "\n",
        "● Mutable (you can change, add, or remove elements).\n",
        "\n",
        "● Defined using square brackets"
      ],
      "metadata": {
        "id": "Hv2pD4Jvskue"
      }
    },
    {
      "cell_type": "code",
      "source": [
        "lst = ['h', 'e', 'l', 'l', 'o']\n",
        "print(lst[1]) # Output: 'e'\n",
        "lst[1] = 'a'\n",
        "print(lst) # Output: ['h', 'a', 'l', 'l', 'o']"
      ],
      "metadata": {
        "colab": {
          "base_uri": "https://localhost:8080/"
        },
        "id": "pr10NzAwst3G",
        "outputId": "38a4b458-d0e2-4928-8b69-db06cf118aff"
      },
      "execution_count": 6,
      "outputs": [
        {
          "output_type": "stream",
          "name": "stdout",
          "text": [
            "e\n",
            "['h', 'a', 'l', 'l', 'o']\n"
          ]
        }
      ]
    },
    {
      "cell_type": "markdown",
      "source": [
        "7.) How do tuples ensure data integrity in Python?\n",
        "\n",
        "● Tuples in Python help ensure data integrity through immutability—once a tuple is created, its\n",
        "contents cannot be changed. Here's how that contributes to data integrity:\n",
        "\n",
        "🔒 1. Immutability-\n",
        "\n",
        "● Tuples are immutable—you can’t modify, add, or delete elements once the tuple is created.\n",
        "\n",
        "● This prevents accidental changes to data, making them ideal for representing fixed\n",
        "collections of items (like coordinates, RGB values, or database records).\n",
        "\n",
        "✅ 2. Hashability-\n",
        "\n",
        "● Because tuples are immutable, they are hashable (if all their elements are hashable), which\n",
        "allows them to be used as keys in dictionaries or elements in sets.\n",
        "\n",
        "● This is essential when you need consistent, unchangeable identifiers.\n",
        "🧩 3. Safer Shared Data-\n",
        "\n",
        "● When passing data structures around in a program, using tuples guarantees that no part of\n",
        "your code can unintentionally change their content.\n",
        "\n",
        "● This is especially important in multithreaded or functional programming scenarios.\n",
        "\n",
        "📊 4. Semantic Clarity-\n",
        "\n",
        "● Tuples can signal that the data is a fixed group of related values, like a record, where\n",
        "changing the contents would not make sense.\n",
        "\n",
        "● This helps enforce logical integrity at a higher level of abstraction.\n",
        "\n",
        "8.) What is a hash table, and how does it relate to dictionaries in Python ?\n",
        "\n",
        "ANS.)● A hash table is a data structure that stores key-value pairs, using a hash function to map\n",
        "keys to indices in an array (or \"bucket\") for fast retrieval, and in Python, dictionaries are\n",
        "implemented using hash tables.\n",
        "\n",
        "Here's a more detailed explanation:\n",
        "\n",
        "a.)What is a Hash Table?\n",
        "\n",
        "\n",
        "● A hash table (also known as a hash map or associative array) is a data structure that stores\n",
        "key-value pairs.\n",
        "\n",
        "● It uses a hash function to determine the location (or \"bucket\") of a key-value pair within an\n",
        "array.\n",
        "\n",
        "● The hash function takes a key as input and returns an integer value (the hash code) which is\n",
        "used as an index into the array.\n",
        "\n",
        "● This allows for very fast lookups, insertions, and deletions, with an average time complexity\n",
        "of O(1) (constant time).\n",
        "\n",
        "b.)How it relates to Dictionaries in Python:\n",
        "\n",
        "\n",
        "● In Python, the built-in dict data type (dictionaries) is implemented using hash tables.\n",
        "\n",
        "● When you create a dictionary in Python, the keys are hashed to determine where they are\n",
        "stored in the underlying hash table.\n",
        "\n",
        "● This allows Python to quickly access the values associated with any given key.\n",
        "\n",
        "● The hash function ensures that keys are mapped to unique (or at least distinct) locations in\n",
        "the hash table."
      ],
      "metadata": {
        "id": "Mz4r-ktlsxOb"
      }
    },
    {
      "cell_type": "code",
      "source": [
        "my_dict = {\"apple\": 1, \"banana\": 2, \"cherry\": 3}\n",
        "print(my_dict[\"apple\"])"
      ],
      "metadata": {
        "colab": {
          "base_uri": "https://localhost:8080/"
        },
        "id": "RhO5ylz3um7t",
        "outputId": "7260b3f2-8f61-4eab-99bf-2228864fd3a6"
      },
      "execution_count": 7,
      "outputs": [
        {
          "output_type": "stream",
          "name": "stdout",
          "text": [
            "1\n"
          ]
        }
      ]
    },
    {
      "cell_type": "markdown",
      "source": [
        "9.)Can lists contain different data types in Python?\n",
        "\n",
        "Ans.) ● Yes, in Python, lists can contain elements of different data types.\n",
        "\n",
        "This is one of the features\n",
        "that makes Python lists very flexible.\n",
        "\n",
        "Here’s an example of a list with mixed data types:"
      ],
      "metadata": {
        "id": "uQQXjEOXus-v"
      }
    },
    {
      "cell_type": "code",
      "source": [
        "my_list = [42, \"hello\", 3.14, True, None, [1, 2, 3], {\"key\": \"value\"}]"
      ],
      "metadata": {
        "id": "quY5Ywn4vAch"
      },
      "execution_count": 8,
      "outputs": []
    },
    {
      "cell_type": "markdown",
      "source": [
        "In this list:\n",
        "\n",
        "● 42 is an integer\n",
        "\n",
        "● \"hello\" is a string\n",
        "\n",
        "● 3.14 is a float\n",
        "\n",
        "● True is a boolean\n",
        "\n",
        "● None is a NoneType\n",
        "\n",
        "● [1, 2, 3] is another list (nested list)\n",
        "\n",
        "● {\"key\": \"value\"} is a dictionary"
      ],
      "metadata": {
        "id": "Sr1CasBhvFfK"
      }
    },
    {
      "cell_type": "markdown",
      "source": [
        "10.)Explain why strings are immutable in Python.\n",
        "  \n",
        "  ● Strings are immutable in Python for several important reasons related to performance,\n",
        "security, and language design. Here's a clear breakdown:\n",
        "\n",
        "🔒 1. Security and Hashing-\n",
        "\n",
        "● Strings are often used as keys in dictionaries (e.g., my_dict[\"key\"] = value).\n",
        "\n",
        "● In order to be used as a key, an object must be hashable — meaning its hash value must\n",
        "never change.\n",
        "\n",
        "● If strings were mutable and someone changed the contents of a key, the hash would change,\n",
        "leading to data corruption or lookup errors.\n",
        "\n",
        "🚀 2. Performance and Memory Optimization-\n",
        "\n",
        "● Python uses a technique called string interning: it stores some strings in memory only once\n",
        "to save space and speed up comparisons.\n",
        "\n",
        "● Immutable strings make this safe because the string content can’t change, so Python can\n",
        "reuse them confidently.\n",
        "\n",
        "🧩 3. Predictable and Bug-Free Code-\n",
        "\n",
        "● If strings were mutable, changing a string in one place could unintentionally affect it\n",
        "somewhere else (if two variables reference the same string object).\n",
        "\n",
        "● Immutability avoids these side effects, making code more predictable and easier to debug.\n",
        "\n",
        "🔁 4. Encourages Clear Data Transformation-\n",
        "\n",
        "● Because strings are immutable, every string modification returns a new string.\n",
        "\n",
        "● This reinforces a functional programming style, where data transformations don’t mutate\n",
        "original inputs\n",
        "\n",
        "11.)What advantages do dictionaries offer over lists for certain tasks?\n",
        "\n",
        " 🔑 1. Fast Lookup by Key-\n",
        "\n",
        "● Dictionaries provide constant time (O(1)) access to values by key.\n",
        "\n",
        "● Lists require linear time (O(n)) to search for a value unless you already know the index.\n",
        "\n",
        "✅ Use dictionaries when you need to quickly retrieve data by a specific identifier.\n",
        "\n",
        "📛 2. More Meaningful Access-\n",
        "\n",
        "● In dictionaries, keys can be descriptive (user[\"email\"]) which improves readability.\n",
        "\n",
        "● In lists, you access data by index (user[3]), which can be unclear and error-prone.\n",
        "\n",
        "✅ Dictionaries make code more self-documenting and maintainable.\n",
        "\n",
        "🧩 3. Flexible Key Types-\n",
        "\n",
        "● Dictionaries can use various immutable types as keys (e.g., strings, numbers, tuples).\n",
        "\n",
        "● Lists are indexed by integers only.\n",
        "\n",
        "✅ Better when data isn't naturally organized by position.\n",
        "\n",
        "🧱 4. Better for Associative Data-\n",
        "\n",
        "● Dictionaries are ideal for storing key-value pairs (e.g., configurations, records, JSON-style\n",
        "data).\n",
        "\n",
        "● Lists are better for ordered collections of items.\n",
        "\n",
        "✅ Think of dictionaries like mini-databases or objects in other languages.\n",
        "\n",
        "🧮 5. Avoid Duplicates (in Keys)-\n",
        "\n",
        "● Dictionary keys are unique, which prevents duplication automatically.\n",
        "\n",
        "● Lists allow duplicate entries.\n",
        "\n",
        "✅ Helps enforce data integrity when uniqueness is required.\n",
        "\n",
        "12.) Describe a scenario where using a tuple would be preferable over a list.\n",
        "\n",
        "● A tuple would be preferable over a list in a scenario where immutability and data integrity are\n",
        "important.\n",
        "\n",
        "📌 Scenario: Returning multiple values from a function-\n",
        "Suppose you're writing a function that processes user login and returns both a status code and a\n",
        "message\n"
      ],
      "metadata": {
        "id": "Ge9DN9BZvo2K"
      }
    },
    {
      "cell_type": "code",
      "source": [
        "def login(username, password):\n",
        "\n",
        "          if username == \"admin\" and password == \"1234\":\n",
        "\n",
        "               return (True, \"Login successful\")\n",
        "          else:\n",
        "\n",
        "               return (False, \"Invalid credentials\")"
      ],
      "metadata": {
        "id": "7isTtCBd-Qtj"
      },
      "execution_count": 68,
      "outputs": []
    },
    {
      "cell_type": "markdown",
      "source": [
        "✅ Why use a tuple here:\n",
        "\n",
        "● Fixed size and structure: The function always returns exactly two values in the same order.\n",
        "\n",
        "● Immutability: The returned data shouldn't be changed by the caller.\n",
        "\n",
        "● Efficiency:Tuples are slightly more memory-efficient and faster for fixed-size collections."
      ],
      "metadata": {
        "id": "Q78ZLqkGxI5z"
      }
    },
    {
      "cell_type": "code",
      "source": [
        "status = login(\"admin\", \"1234\")\n",
        "status[0] = False."
      ],
      "metadata": {
        "colab": {
          "base_uri": "https://localhost:8080/",
          "height": 162
        },
        "id": "6CGA0OqG-qhC",
        "outputId": "def7caf0-e21b-446a-e7b7-7dab036c73d5"
      },
      "execution_count": 71,
      "outputs": [
        {
          "output_type": "error",
          "ename": "TypeError",
          "evalue": "'tuple' object does not support item assignment",
          "traceback": [
            "\u001b[0;31m---------------------------------------------------------------------------\u001b[0m",
            "\u001b[0;31mTypeError\u001b[0m                                 Traceback (most recent call last)",
            "\u001b[0;32m<ipython-input-71-b4eb24c91719>\u001b[0m in \u001b[0;36m<cell line: 0>\u001b[0;34m()\u001b[0m\n\u001b[1;32m      1\u001b[0m \u001b[0mstatus\u001b[0m \u001b[0;34m=\u001b[0m \u001b[0mlogin\u001b[0m\u001b[0;34m(\u001b[0m\u001b[0;34m\"admin\"\u001b[0m\u001b[0;34m,\u001b[0m \u001b[0;34m\"1234\"\u001b[0m\u001b[0;34m)\u001b[0m\u001b[0;34m\u001b[0m\u001b[0;34m\u001b[0m\u001b[0m\n\u001b[0;32m----> 2\u001b[0;31m \u001b[0mstatus\u001b[0m\u001b[0;34m[\u001b[0m\u001b[0;36m0\u001b[0m\u001b[0;34m]\u001b[0m \u001b[0;34m=\u001b[0m \u001b[0;32mFalse\u001b[0m\u001b[0;34m\u001b[0m\u001b[0;34m\u001b[0m\u001b[0m\n\u001b[0m",
            "\u001b[0;31mTypeError\u001b[0m: 'tuple' object does not support item assignment"
          ]
        }
      ]
    },
    {
      "cell_type": "markdown",
      "source": [
        "13.)How do sets handle duplicate values in Python?\n",
        "\n",
        "● Sets in Python automatically remove duplicate values — they only store unique elements.\n",
        "\n",
        "🔁 What happens with duplicates?\n",
        "\n",
        "If you create a set or add items to one:\n",
        "\n",
        "● Any duplicate values are ignored.\n",
        "\n",
        "● The set will contain only one instance of each item.\n",
        "\n",
        "🧪 Example:"
      ],
      "metadata": {
        "id": "ZUdrRnegxUlR"
      }
    },
    {
      "cell_type": "code",
      "source": [
        "my_set = {1, 2, 2, 3, 4, 1}\n",
        "print(my_set)\n",
        "\n"
      ],
      "metadata": {
        "colab": {
          "base_uri": "https://localhost:8080/"
        },
        "id": "VW1ENI3q0FbP",
        "outputId": "9b7ebe78-3195-4f5d-94d6-dd7e029ca882"
      },
      "execution_count": 73,
      "outputs": [
        {
          "output_type": "stream",
          "name": "stdout",
          "text": [
            "{1, 2, 3, 4}\n"
          ]
        }
      ]
    },
    {
      "cell_type": "markdown",
      "source": [
        "Even though 1 and 2 appear multiple times in the definition, only one of each is kept in the set\n",
        "\n",
        "  ➕ Adding values:"
      ],
      "metadata": {
        "id": "XLazM-8C0Me5"
      }
    },
    {
      "cell_type": "code",
      "source": [
        "my_set.add(3) # 3 is already in the set\n",
        "print(my_set)"
      ],
      "metadata": {
        "colab": {
          "base_uri": "https://localhost:8080/"
        },
        "id": "jltApqK_0VY1",
        "outputId": "16a29d3e-a3e5-4260-886e-69f7449fa334"
      },
      "execution_count": 72,
      "outputs": [
        {
          "output_type": "stream",
          "name": "stdout",
          "text": [
            "{1, 2, 3, 5}\n"
          ]
        }
      ]
    },
    {
      "cell_type": "markdown",
      "source": [
        "TL;DR:\n",
        "\n",
        "● ✅ Sets = Unique values only\n",
        "\n",
        "● ❌ Duplicates are discarded\n",
        "\n",
        "● 🧠 Useful for deduplicating lists or checking membership fast"
      ],
      "metadata": {
        "id": "Piu33zEA0crf"
      }
    },
    {
      "cell_type": "markdown",
      "source": [
        "14.)How does the “in” keyword work differently for lists and dictionaries?\n",
        "\n",
        "● The \"in\" keyword in Python is used to check for membership, but how it works depends on\n",
        "the type of the data structure—like lists vs dictionaries.\n",
        "\n",
        "\n",
        "🔹 Lists-\n",
        "\n",
        "When used with a list, in checks whether a value exists as an element in the list."
      ],
      "metadata": {
        "id": "wwdfB4do0lAT"
      }
    },
    {
      "cell_type": "code",
      "source": [
        "my_list = [1, 2, 3, 4]\n",
        "print(2 in my_list)\n",
        "print(5 in my_list)"
      ],
      "metadata": {
        "colab": {
          "base_uri": "https://localhost:8080/"
        },
        "id": "6DbwAAlB1ABM",
        "outputId": "002ddea7-875d-4bcf-b0d8-e5712753afb0"
      },
      "execution_count": 14,
      "outputs": [
        {
          "output_type": "stream",
          "name": "stdout",
          "text": [
            "True\n",
            "False\n"
          ]
        }
      ]
    },
    {
      "cell_type": "markdown",
      "source": [
        "🔹 Dictionaries-\n",
        "\n",
        "When used with a dictionary, in checks whether a value exists as a key in the dictionary."
      ],
      "metadata": {
        "id": "AsG13I0d1FN4"
      }
    },
    {
      "cell_type": "code",
      "source": [
        "my_dict = {'a': 1, 'b': 2}\n",
        "print('a' in my_dict)\n",
        "print(1 in my_dict)"
      ],
      "metadata": {
        "colab": {
          "base_uri": "https://localhost:8080/"
        },
        "id": "iQ9azzU41Mmq",
        "outputId": "301ac1ba-634a-4b93-a269-30ffe47d36fa"
      },
      "execution_count": 15,
      "outputs": [
        {
          "output_type": "stream",
          "name": "stdout",
          "text": [
            "True\n",
            "False\n"
          ]
        }
      ]
    },
    {
      "cell_type": "markdown",
      "source": [
        "15.)Can you modify the elements of a tuple? Explain why or why not.\n",
        "\n",
        "● No, you cannot directly modify the elements of a tuple in Python because tuples are\n",
        "immutable meaning their elements cannot be changed after creation.\n",
        "\n",
        "Explanation:-\n",
        "\n",
        "Immutability:\n",
        "\n",
        "Tuples are designed to be immutable, meaning once a tuple is created, its elements cannot be\n",
        "altered, added to, or removed.\n",
        "\n",
        "Purpose:\n",
        "\n",
        "This immutability provides several advantages:\n",
        "● Data Integrity: Ensures that the data within a tuple remains consistent and predictable,\n",
        "preventing accidental or unintended changes.\n",
        "\n",
        "● Hashing: Immutable objects like tuples can be used as keys in dictionaries or as elements in\n",
        "sets because their hash values remain constant.\n",
        "\n",
        "● Efficiency: The immutability of tuples can lead to some performance optimizations in certain\n",
        "scenarios.\n",
        "\n",
        "Alternative:\n",
        "\n",
        "If you need a mutable sequence (where elements can be changed), you should use a list instead of\n",
        "a tuple.\n",
        "\n",
        "Example:"
      ],
      "metadata": {
        "id": "8u-vvZel1TFR"
      }
    },
    {
      "cell_type": "code",
      "source": [
        "my_tuple = (1, 2, 3)"
      ],
      "metadata": {
        "id": "3y9V0sse1uVA"
      },
      "execution_count": 16,
      "outputs": []
    },
    {
      "cell_type": "markdown",
      "source": [
        "16.)What is a nested dictionary, and give an example of its use case?\n",
        "\n",
        "● A nested dictionary in Python is a dictionary where values can be another dictionary. This\n",
        "allows you to model more complex data structures, like hierarchical or structured data.\n",
        "\n",
        "🧠 Why use a nested dictionary?\n",
        "\n",
        "It helps organize data that has multiple levels of information. Think of it like a dictionary inside\n",
        "another dictionary — like a spreadsheet with multiple columns or an object with properties and\n",
        "sub-properties. :\n",
        "\n",
        " Let’s say you’re building a simple system to store students and their grades in different subjects:"
      ],
      "metadata": {
        "id": "rEGMjZKQ16QQ"
      }
    },
    {
      "cell_type": "code",
      "source": [
        "students = {\n",
        "\"Alice\": {\n",
        "\"Math\": 90,\n",
        "\"Science\": 85,\n",
        "\"English\": 88\n",
        "},\n",
        "\"Bob\": {\n",
        "\"Math\": 75,\n",
        "\"Science\": 80,\n",
        "\"English\": 78\n",
        "}\n",
        "}"
      ],
      "metadata": {
        "id": "JlnBEc2l2V_w"
      },
      "execution_count": 17,
      "outputs": []
    },
    {
      "cell_type": "markdown",
      "source": [
        "17.)Describe the time complexity of accessing elements in a dictionary.\n",
        "\n",
        "\n",
        "● Accessing elements in a dictionary (also known as a hash map) in most programming\n",
        "languages like Python typically has the following time complexity:\n",
        "\n",
        "🕒 Time Complexity:\n",
        "\n",
        "● Average case: O(1) — constant time\n",
        "\n",
        "● Worst case: O(n) — linear time\n",
        "\n",
        "💡 Why?\n",
        "\n",
        "Average case (O(1)):\n",
        "\n",
        "● Dictionaries use hashing to map keys to values. When you access an element like\n",
        "my_dict[key], the key is hashed, and the hash is used to directly index into an array, allowing\n",
        "for constant time access in most cases.\n",
        "\n",
        "Worst case (O(n)):\n",
        "\n",
        "● In rare scenarios, multiple keys can hash to the same index (called a hash collision).\n",
        "If many\n",
        "collisions occur and are poorly handled (e.g., via linked lists or open addressing with high\n",
        "load factor), lookups can degrade to linear time. However, modern implementations (like\n",
        "Python’s dict) use techniques to mitigate this, making the worst case uncommon.\n",
        "\n",
        "18.)In what situations are lists preferred over dictionaries?\n",
        "\n",
        "Ans.)● Lists and dictionaries in Python serve different purposes, and choosing one over the other\n",
        "depends on the use case. Here are situations where lists are preferred over dictionaries:\n",
        "\n",
        "✅ 1. Order Matters-\n",
        "\n",
        "● Use a list when the order of elements is important.\n",
        "\n",
        "● Example: Maintaining a queue or processing items in sequence"
      ],
      "metadata": {
        "id": "GdaPBhbl2bkR"
      }
    },
    {
      "cell_type": "code",
      "source": [
        "tasks = ['write', 'edit', 'submit']"
      ],
      "metadata": {
        "id": "jXng_MnU0uME"
      },
      "execution_count": 1,
      "outputs": []
    },
    {
      "cell_type": "markdown",
      "source": [
        "✅ 2. Simple Collections of Items-\n",
        "\n",
        "● Lists are great when you're dealing with simple, homogeneous data like numbers or strings\n",
        "without the need for labels.\n",
        "\n",
        "● Example: Storing names or scores."
      ],
      "metadata": {
        "id": "MArqaA0F0y-1"
      }
    },
    {
      "cell_type": "code",
      "source": [
        "scores = [95, 87, 78]"
      ],
      "metadata": {
        "id": "KFxOJVFw04qI"
      },
      "execution_count": 2,
      "outputs": []
    },
    {
      "cell_type": "markdown",
      "source": [
        "✅ 3. Positional Access-\n",
        "\n",
        "● If you frequently access items by index, lists are ideal."
      ],
      "metadata": {
        "id": "b5AhbFDo079z"
      }
    },
    {
      "cell_type": "code",
      "source": [
        "first_score = scores[0]"
      ],
      "metadata": {
        "id": "FBC14TBK1AMa"
      },
      "execution_count": 3,
      "outputs": []
    },
    {
      "cell_type": "markdown",
      "source": [
        "✅ 4. Iteration Without Keys-\n",
        "\n",
        "● Lists are optimal for straightforward looping through items where keys/labels aren’t\n",
        "necessary."
      ],
      "metadata": {
        "id": "9Paig7DD1DO6"
      }
    },
    {
      "cell_type": "code",
      "source": [
        "for score in scores:\n",
        "     print(score)"
      ],
      "metadata": {
        "colab": {
          "base_uri": "https://localhost:8080/"
        },
        "id": "wNOr8akX1hqT",
        "outputId": "9356c516-0935-435c-b48f-b33bebd52ab2"
      },
      "execution_count": 74,
      "outputs": [
        {
          "output_type": "stream",
          "name": "stdout",
          "text": [
            "78\n",
            "87\n",
            "95\n"
          ]
        }
      ]
    },
    {
      "cell_type": "markdown",
      "source": [
        "✅ 5. Memory Efficiency-\n",
        "\n",
        "● Lists are generally more memory-efficient than dictionaries, especially for large collections of\n",
        "simple values.\n",
        "\n",
        "✅ 6. Need for Sorting-\n",
        "\n",
        "● Lists can be sorted easily with .sort() or sorted(). Dictionaries can only be sorted by keys or\n",
        "values with extra effort."
      ],
      "metadata": {
        "id": "fFCE29Z71lD_"
      }
    },
    {
      "cell_type": "markdown",
      "source": [],
      "metadata": {
        "id": "7sfnRQIM1Yj_"
      }
    },
    {
      "cell_type": "code",
      "source": [
        "scores.sort()"
      ],
      "metadata": {
        "id": "njPyVwIS1qDR"
      },
      "execution_count": 8,
      "outputs": []
    },
    {
      "cell_type": "markdown",
      "source": [
        "✅ 7. Stack or Queue Implementation-\n",
        "\n",
        "● Lists work well for implementing stacks (LIFO) and queues (FIFO) using append(), pop(),\n",
        "and pop(0)."
      ],
      "metadata": {
        "id": "oSJp8CW71wHB"
      }
    },
    {
      "cell_type": "code",
      "source": [
        "stack = []\n",
        "stack.append('a')\n",
        "stack.pop() # LIFO"
      ],
      "metadata": {
        "colab": {
          "base_uri": "https://localhost:8080/",
          "height": 35
        },
        "id": "22Aq4vOz1zvR",
        "outputId": "c5b834f7-ab32-47b8-df29-53e7eddd697c"
      },
      "execution_count": 9,
      "outputs": [
        {
          "output_type": "execute_result",
          "data": {
            "text/plain": [
              "'a'"
            ],
            "application/vnd.google.colaboratory.intrinsic+json": {
              "type": "string"
            }
          },
          "metadata": {},
          "execution_count": 9
        }
      ]
    },
    {
      "cell_type": "markdown",
      "source": [
        "19.)Why are dictionaries considered unordered, and how does that affect data retrieval?\n",
        "\n",
        "\n",
        "Ans.)● Dictionaries in Python (and many other languages) are traditionally considered unordered\n",
        "because they do not maintain the order of the items as inserted (at least in versions before\n",
        "Python 3.7). Let's break this down a bit:\n",
        "\n",
        "🧠 Why were dictionaries considered unordered?\n",
        "\n",
        "● Hash tables: Dictionaries are implemented using hash tables under the hood. When you\n",
        "insert a key-value pair, the key gets hashed, and the result determines where it’s stored in\n",
        "memory.\n",
        "\n",
        "● No guaranteed order: In versions before Python 3.7, the internal mechanics of the hash table\n",
        "didn’t guarantee any consistent order of items when iterating over the dictionary.\n",
        "\n",
        "● So even if you inserted items in a specific order, you couldn’t count on retrieving them in the\n",
        "same order later.\n",
        "\n",
        "🐍 But starting in Python 3.7...\n",
        "\n",
        "● Python guarantees insertion order for dictionaries. That means if you insert keys in a\n",
        "particular sequence, iterating over the dictionary will return keys in that same sequence.\n",
        "\n",
        "● Even though dictionaries maintain order now, they’re still optimized for fast key-based\n",
        "retrieval, not for ordering or sorting.\n",
        "\n",
        "📌 How does this affect data retrieval?\n",
        "\n",
        "● Key-based access is constant time (O(1)) because of hashing. You can quickly retrieve\n",
        "values using their keys, regardless of the order.\n",
        "\n",
        "● If you want to retrieve items in a specific order (e.g., sorted by keys or values), you’ll need to\n",
        "use functions like sorted() or use an OrderedDict (in some use cases, though it's less\n",
        "needed post-3.7).\n",
        "\n",
        "\n",
        "20.)Explain the difference between a list and a dictionary in terms of data retrieval.\n",
        "\n",
        "● The main difference between a list and a dictionary in terms of data retrieval lies in how you\n",
        "access the data and how fast that access is:\n",
        "\n",
        "🔢 List:\n",
        "\n",
        "● A list is an ordered collection of elements.\n",
        "\n",
        "● Data is retrieved using index positions (e.g., my_list[2] gives the third element).\n",
        "\n",
        "● Indexes are integers, starting at 0.\n",
        "\n",
        "● Retrieval time is O(1) (constant time) if you know the index.\n",
        "\n",
        "● You usually have to search (O(n)) if you're looking for a specific value and don’t know its\n",
        "index.\n",
        "\n",
        "Example:"
      ],
      "metadata": {
        "id": "lviKZtGT14IC"
      }
    },
    {
      "cell_type": "code",
      "source": [
        "my_list = ['apple', 'banana', 'cherry']\n",
        "print(my_list[1]) # Output: 'banana'"
      ],
      "metadata": {
        "colab": {
          "base_uri": "https://localhost:8080/"
        },
        "id": "f7EeANlA2y2k",
        "outputId": "cfdc6b76-db8c-4787-d6ca-6784425e7d9c"
      },
      "execution_count": 10,
      "outputs": [
        {
          "output_type": "stream",
          "name": "stdout",
          "text": [
            "banana\n"
          ]
        }
      ]
    },
    {
      "cell_type": "markdown",
      "source": [
        "🔑 Dictionary:\n",
        "\n",
        "A dictionary is an unordered collection of key-value pairs (in Python 3.7+, it preserves insertion\n",
        "order, but conceptually it's still based on key-value access).\n",
        "\n",
        "Data is retrieved using keys (e.g., my_dict['fruit']).\n",
        "\n",
        "Keys can be strings, numbers, or other immutable types.\n",
        "\n",
        "Retrieval time is O(1) on average, thanks to the underlying hash table mechanism.\n",
        "\n",
        "Example:"
      ],
      "metadata": {
        "id": "qsCPz_G526Ve"
      }
    },
    {
      "cell_type": "code",
      "source": [
        "my_dict = {'fruit': 'banana', 'color': 'yellow'}\n",
        "print(my_dict['fruit']) # Output: 'banana'"
      ],
      "metadata": {
        "colab": {
          "base_uri": "https://localhost:8080/"
        },
        "id": "JC5PO-4u3Jxf",
        "outputId": "90233952-c247-4978-84f3-54fea03a59d2"
      },
      "execution_count": 11,
      "outputs": [
        {
          "output_type": "stream",
          "name": "stdout",
          "text": [
            "banana\n"
          ]
        }
      ]
    },
    {
      "cell_type": "code",
      "source": [
        "#1. Write a code to create a string with your name and print it.\n",
        "name = \"anshul tiwari\"\n",
        "print(name)\n",
        "\n"
      ],
      "metadata": {
        "colab": {
          "base_uri": "https://localhost:8080/"
        },
        "id": "tWyNlRTR3Nwu",
        "outputId": "4d1d0dc2-a3b5-46d6-db94-3c88fe28ee5d"
      },
      "execution_count": 12,
      "outputs": [
        {
          "output_type": "stream",
          "name": "stdout",
          "text": [
            "anshul tiwari\n"
          ]
        }
      ]
    },
    {
      "cell_type": "code",
      "source": [],
      "metadata": {
        "id": "LuG1kYLS3jt4"
      },
      "execution_count": null,
      "outputs": []
    },
    {
      "cell_type": "code",
      "source": [
        "#2. Write a code to find the length of the string \"Hello World\".\n",
        "text = \"Hello World\"\n",
        "length = len(text)\n",
        "print(\"Length of the string:\", length)"
      ],
      "metadata": {
        "colab": {
          "base_uri": "https://localhost:8080/"
        },
        "id": "hHvxtCx83muE",
        "outputId": "dfc5fc01-c258-459e-ec1f-407a1c17e92b"
      },
      "execution_count": 20,
      "outputs": [
        {
          "output_type": "stream",
          "name": "stdout",
          "text": [
            "Length of the string: 11\n"
          ]
        }
      ]
    },
    {
      "cell_type": "code",
      "source": [
        "#3. Write a code to slice the first 3 characters from the string \"Python Programming\".\n",
        "text = \"Python Programming\"\n",
        "sliced_text = text[:3]\n",
        "print(sliced_text)"
      ],
      "metadata": {
        "colab": {
          "base_uri": "https://localhost:8080/"
        },
        "id": "Qoh6ZSxj33jq",
        "outputId": "5bd9c886-3c11-4cb7-b528-f83bd6537f0c"
      },
      "execution_count": 21,
      "outputs": [
        {
          "output_type": "stream",
          "name": "stdout",
          "text": [
            "Pyt\n"
          ]
        }
      ]
    },
    {
      "cell_type": "code",
      "source": [
        "#4. Write a code to convert the string \"hello\" to uppercase.\n",
        "text = \"hello\"\n",
        "uppercase_text = text.upper()\n",
        "print(uppercase_text)"
      ],
      "metadata": {
        "colab": {
          "base_uri": "https://localhost:8080/"
        },
        "id": "TOV_BBgP35ZG",
        "outputId": "c87ef446-9409-48dc-f2a7-d66d3bd6a53e"
      },
      "execution_count": 22,
      "outputs": [
        {
          "output_type": "stream",
          "name": "stdout",
          "text": [
            "HELLO\n"
          ]
        }
      ]
    },
    {
      "cell_type": "code",
      "source": [
        "#5. Write a code to replace the word \"apple\" with \"orange\" in the string \"Ilike apple\".\n",
        "text = \"I like apple\"\n",
        "new_text = text.replace(\"apple\", \"orange\")\n",
        "print(new_text)"
      ],
      "metadata": {
        "colab": {
          "base_uri": "https://localhost:8080/"
        },
        "id": "YaZMe6F-4QTw",
        "outputId": "28e148ce-0b4e-4b58-959a-584a0a487f92"
      },
      "execution_count": 24,
      "outputs": [
        {
          "output_type": "stream",
          "name": "stdout",
          "text": [
            "I like orange\n"
          ]
        }
      ]
    },
    {
      "cell_type": "code",
      "source": [
        "#6. Write a code to create a list with numbers 1 to 5 and print it.\n",
        "numbers = [1, 2, 3, 4, 5]\n",
        "print(numbers)"
      ],
      "metadata": {
        "colab": {
          "base_uri": "https://localhost:8080/"
        },
        "id": "OlExX6qR4U5g",
        "outputId": "4d0516b4-a0a6-4d24-c35f-4f309da2e4c4"
      },
      "execution_count": 25,
      "outputs": [
        {
          "output_type": "stream",
          "name": "stdout",
          "text": [
            "[1, 2, 3, 4, 5]\n"
          ]
        }
      ]
    },
    {
      "cell_type": "code",
      "source": [
        "#7 Write a code to append the number 10 to the list [1, 2, 3, 4].\n",
        "my_list = [1, 2, 3, 4]\n",
        "my_list.append(10)\n",
        "print(my_list)"
      ],
      "metadata": {
        "colab": {
          "base_uri": "https://localhost:8080/"
        },
        "id": "kAHN9vGb4ZK8",
        "outputId": "c55c08b8-5713-4b59-917f-34a9175c83a2"
      },
      "execution_count": 30,
      "outputs": [
        {
          "output_type": "stream",
          "name": "stdout",
          "text": [
            "[1, 2, 3, 4, 10]\n"
          ]
        }
      ]
    },
    {
      "cell_type": "code",
      "source": [
        "#8. Write a code to remove the number 3 from the list [1, 2, 3, 4, 5].\n",
        "my_list = [1, 2, 3, 4, 5]\n",
        "my_list.remove(3)\n",
        "print(my_list)"
      ],
      "metadata": {
        "colab": {
          "base_uri": "https://localhost:8080/"
        },
        "id": "xUP341rK5HJ2",
        "outputId": "bf0762f3-7fd3-463b-e3ab-07f119445586"
      },
      "execution_count": 31,
      "outputs": [
        {
          "output_type": "stream",
          "name": "stdout",
          "text": [
            "[1, 2, 4, 5]\n"
          ]
        }
      ]
    },
    {
      "cell_type": "code",
      "source": [
        "#9. Write a code to access the second element in the list ['a', 'b', 'c','d'].\n",
        "my_list = ['a', 'b', 'c', 'd']\n",
        "second_element = my_list[1]\n",
        "print(second_element)"
      ],
      "metadata": {
        "colab": {
          "base_uri": "https://localhost:8080/"
        },
        "id": "7ChKqEav5MDK",
        "outputId": "e39a98b7-3d60-4996-e947-2a1ca29dcf44"
      },
      "execution_count": 32,
      "outputs": [
        {
          "output_type": "stream",
          "name": "stdout",
          "text": [
            "b\n"
          ]
        }
      ]
    },
    {
      "cell_type": "code",
      "source": [
        "#10. Write a code to reverse the list [10, 20, 30, 40, 50].\n",
        "my_list = [10, 20, 30, 40, 50]\n",
        "reversed_list = my_list[::-1]\n",
        "print(reversed_list)"
      ],
      "metadata": {
        "colab": {
          "base_uri": "https://localhost:8080/"
        },
        "id": "d6i4bNE75S0e",
        "outputId": "6d63debc-b3dc-494d-d326-3a1cd6953eb8"
      },
      "execution_count": 33,
      "outputs": [
        {
          "output_type": "stream",
          "name": "stdout",
          "text": [
            "[50, 40, 30, 20, 10]\n"
          ]
        }
      ]
    },
    {
      "cell_type": "code",
      "source": [
        "#11.Write a code to create a tuple with the elements 100, 200, 300 and printit.\n",
        "my_tuple = (100, 200, 300)\n",
        "print(my_tuple)"
      ],
      "metadata": {
        "colab": {
          "base_uri": "https://localhost:8080/"
        },
        "id": "XTaQFkwo5aWh",
        "outputId": "13d718f0-b2af-404a-ab5b-49af42b6b20a"
      },
      "execution_count": 34,
      "outputs": [
        {
          "output_type": "stream",
          "name": "stdout",
          "text": [
            "(100, 200, 300)\n"
          ]
        }
      ]
    },
    {
      "cell_type": "code",
      "source": [
        "#12. Write a code to access the second-to-last element of the tuple ('red','green', 'blue', 'yellow').\n",
        "colors = ('red', 'green', 'blue', 'yellow')\n",
        "second_to_last = colors[-2]\n",
        "print(second_to_last)"
      ],
      "metadata": {
        "colab": {
          "base_uri": "https://localhost:8080/"
        },
        "id": "G9RKQUI75c3b",
        "outputId": "806f15cc-5a96-4eb9-b3be-78517b2de65e"
      },
      "execution_count": 35,
      "outputs": [
        {
          "output_type": "stream",
          "name": "stdout",
          "text": [
            "blue\n"
          ]
        }
      ]
    },
    {
      "cell_type": "code",
      "source": [
        "#13. Write a code to find the minimum number in the tuple (10, 20, 5, 15).\n",
        "\n",
        "numbers = (10, 20, 5, 15)\n",
        "minimum_number = min(numbers)\n",
        "print(\"The minimum number is:\", minimum_number)"
      ],
      "metadata": {
        "colab": {
          "base_uri": "https://localhost:8080/"
        },
        "id": "Llui_-JK5lQb",
        "outputId": "757c4d89-307a-42b2-9064-cae5de1019b9"
      },
      "execution_count": 36,
      "outputs": [
        {
          "output_type": "stream",
          "name": "stdout",
          "text": [
            "The minimum number is: 5\n"
          ]
        }
      ]
    },
    {
      "cell_type": "code",
      "source": [
        "#14. Write a code to find the index of the element \"cat\" in the tuple ('dog',cat', 'rabbit').\n",
        "animals = ('dog', 'cat', 'rabbit')\n",
        "index_of_cat = animals.index('cat')\n",
        "print(\"The index of 'cat' is:\", index_of_cat)"
      ],
      "metadata": {
        "colab": {
          "base_uri": "https://localhost:8080/"
        },
        "id": "1jCotPPS5saO",
        "outputId": "708cf3c6-f44d-4a9f-ae32-5a835e466441"
      },
      "execution_count": 37,
      "outputs": [
        {
          "output_type": "stream",
          "name": "stdout",
          "text": [
            "The index of 'cat' is: 1\n"
          ]
        }
      ]
    },
    {
      "cell_type": "code",
      "source": [
        "#15. Write a code to create a tuple containing three different fruits andcheck if \"kiwi\" is in it.\n",
        "fruits = (\"apple\", \"banana\", \"orange\")\n",
        "if \"kiwi\" in fruits:\n",
        "    print(\"Kiwi is in the tuple.\")\n",
        "else:\n",
        "     print(\"Kiwi is not in the tuple.\")"
      ],
      "metadata": {
        "colab": {
          "base_uri": "https://localhost:8080/"
        },
        "id": "q4glze5W5xjJ",
        "outputId": "f1527747-45fb-4853-b4ea-7436ae0839da"
      },
      "execution_count": 39,
      "outputs": [
        {
          "output_type": "stream",
          "name": "stdout",
          "text": [
            "Kiwi is not in the tuple.\n"
          ]
        }
      ]
    },
    {
      "cell_type": "code",
      "source": [
        "#16. Write a code to create a set with the elements 'a', 'b', 'c' and print it.\n",
        "my_set = {'a', 'b', 'c'}\n",
        "print(my_set)"
      ],
      "metadata": {
        "colab": {
          "base_uri": "https://localhost:8080/"
        },
        "id": "FgrsQCSD6F8E",
        "outputId": "c7fc6934-f19d-4759-cf92-57626fdb4b4b"
      },
      "execution_count": 40,
      "outputs": [
        {
          "output_type": "stream",
          "name": "stdout",
          "text": [
            "{'b', 'c', 'a'}\n"
          ]
        }
      ]
    },
    {
      "cell_type": "code",
      "source": [
        "#17. Write a code to clear all elements from the set {1, 2, 3, 4, 5}.\n",
        "my_set = {1, 2, 3, 4, 5}\n",
        "my_set.discard(4)\n",
        "print(my_set)"
      ],
      "metadata": {
        "colab": {
          "base_uri": "https://localhost:8080/"
        },
        "id": "LZRm21x16Ibb",
        "outputId": "22aa0eca-b068-4b1c-864d-2af14998a421"
      },
      "execution_count": 43,
      "outputs": [
        {
          "output_type": "stream",
          "name": "stdout",
          "text": [
            "{1, 2, 3, 5}\n"
          ]
        }
      ]
    },
    {
      "cell_type": "code",
      "source": [
        "#19. Write a code to find the union of two sets {1, 2, 3} and {3, 4, 5}.\n",
        "set1 = {1, 2, 3}\n",
        "set2 = {3, 4, 5}\n",
        "union_set = set1.union(set2)\n",
        "print(\"Union of the sets:\", union_set)"
      ],
      "metadata": {
        "colab": {
          "base_uri": "https://localhost:8080/"
        },
        "id": "aZ1Jlqds6m8R",
        "outputId": "c899a314-d489-4291-bfec-d0fe8e0c259a"
      },
      "execution_count": 44,
      "outputs": [
        {
          "output_type": "stream",
          "name": "stdout",
          "text": [
            "Union of the sets: {1, 2, 3, 4, 5}\n"
          ]
        }
      ]
    },
    {
      "cell_type": "code",
      "source": [
        "#20. Write a code to find the intersection of two sets {1, 2, 3} and {2, 3,4}.\n",
        "set1 = {1, 2, 3}\n",
        "set2 = {2, 3, 4}\n",
        "intersection = set1 & set2\n",
        "\n",
        "print(\"Intersection:\", intersection)"
      ],
      "metadata": {
        "colab": {
          "base_uri": "https://localhost:8080/"
        },
        "id": "yLlNZu3O6r_c",
        "outputId": "710031c7-e70b-41db-db2a-fc9251cbab98"
      },
      "execution_count": 45,
      "outputs": [
        {
          "output_type": "stream",
          "name": "stdout",
          "text": [
            "Intersection: {2, 3}\n"
          ]
        }
      ]
    },
    {
      "cell_type": "code",
      "source": [
        "#21. Write a code to create a dictionary with the keys \"name\", \"age\", and \"city\", and print it.\n",
        "my_dict = {\n",
        "\"anshul tiwari\": None,\n",
        "\"21 \": None,\n",
        "\"Deoria\": None\n",
        "}\n",
        "print(my_dict)"
      ],
      "metadata": {
        "colab": {
          "base_uri": "https://localhost:8080/"
        },
        "id": "aEbO0yux6yQ_",
        "outputId": "39aafadb-5532-403b-9d00-b744b05612a5"
      },
      "execution_count": 47,
      "outputs": [
        {
          "output_type": "stream",
          "name": "stdout",
          "text": [
            "{'anshul tiwari': None, '21 ': None, 'Deoria': None}\n"
          ]
        }
      ]
    },
    {
      "cell_type": "code",
      "source": [
        "#22. Write a code to add a new key-value pair \"country\": \"USA\" to the dictionary {'name': 'John', 'age': 25}.\n",
        "\n",
        "person = {'name': 'John', 'age': 25}\n",
        "person['country'] = 'USA'\n",
        "print(person)"
      ],
      "metadata": {
        "colab": {
          "base_uri": "https://localhost:8080/"
        },
        "id": "jSalx6dl7GwL",
        "outputId": "4c05986a-4b38-4f5c-9bc0-de26311ef9d3"
      },
      "execution_count": 51,
      "outputs": [
        {
          "output_type": "stream",
          "name": "stdout",
          "text": [
            "{'name': 'John', 'age': 25, 'country': 'USA'}\n"
          ]
        }
      ]
    },
    {
      "cell_type": "code",
      "source": [
        "#23. Write a code to access the value associated with the key \"name\" in thedictionary {'name': 'Alice', 'age': 30}.\n",
        "person = {'name': 'Alice', 'age': 30}\n",
        "name_value = person['name']\n",
        "print(name_value)"
      ],
      "metadata": {
        "colab": {
          "base_uri": "https://localhost:8080/"
        },
        "id": "2FWqbEUd7aw3",
        "outputId": "445391b7-7f7f-4c65-dc83-79bc82a02357"
      },
      "execution_count": 53,
      "outputs": [
        {
          "output_type": "stream",
          "name": "stdout",
          "text": [
            "Alice\n"
          ]
        }
      ]
    },
    {
      "cell_type": "code",
      "source": [
        "#24. Write a code to remove the key \"age\" from the dictionary {'name': 'Bob','age': 22, 'city': 'New York'}.\n",
        "person = {'name': 'Bob', 'age': 22, 'city': 'New York'}\n",
        "person.pop('age', None)\n",
        "print(person)"
      ],
      "metadata": {
        "colab": {
          "base_uri": "https://localhost:8080/"
        },
        "id": "GPdEZqew7hC_",
        "outputId": "914f5e27-045e-455d-e671-58890cac10ae"
      },
      "execution_count": 54,
      "outputs": [
        {
          "output_type": "stream",
          "name": "stdout",
          "text": [
            "{'name': 'Bob', 'city': 'New York'}\n"
          ]
        }
      ]
    },
    {
      "cell_type": "code",
      "source": [
        "#25. Write a code to check if the key \"city\" exists in the dictionary.{'name': 'Alice', 'city': 'Paris'}.\n",
        "data = {'name': 'Alice', 'city': 'Paris'}\n",
        "if 'city' in data:\n",
        "\n",
        "        print(\"The key 'city' exists in the dictionary.\")\n",
        "else:\n",
        "\n",
        "        print(\"The key 'city' does not exist in the dictionary.\")"
      ],
      "metadata": {
        "colab": {
          "base_uri": "https://localhost:8080/"
        },
        "id": "-6ep6-ts8isP",
        "outputId": "4f8d2c95-8955-492f-e0e3-0043115613ab"
      },
      "execution_count": 55,
      "outputs": [
        {
          "output_type": "stream",
          "name": "stdout",
          "text": [
            "The key 'city' exists in the dictionary.\n"
          ]
        }
      ]
    },
    {
      "cell_type": "code",
      "source": [
        "#26. Write a code to create a list, a tuple, and a dictionary, and print them all.\n",
        "my_list = [1, 2, 3, 4, 5]\n",
        "my_tuple = ('a', 'b', 'c')\n",
        "my_dict = {'name': 'Alice', 'age': 30, 'city': 'New York'}\n",
        "print(\"List:\", my_list)\n",
        "print(\"Tuple:\", my_tuple)\n",
        "print(\"Dictionary:\", my_dict)"
      ],
      "metadata": {
        "colab": {
          "base_uri": "https://localhost:8080/"
        },
        "id": "vdGWmByF83sN",
        "outputId": "8af0019e-fc22-4bd6-d306-1f1286c6ef5a"
      },
      "execution_count": 56,
      "outputs": [
        {
          "output_type": "stream",
          "name": "stdout",
          "text": [
            "List: [1, 2, 3, 4, 5]\n",
            "Tuple: ('a', 'b', 'c')\n",
            "Dictionary: {'name': 'Alice', 'age': 30, 'city': 'New York'}\n"
          ]
        }
      ]
    },
    {
      "cell_type": "code",
      "source": [
        "#27. Write a code to create a list of 5 random numbers between 1 and 100, sortit in ascending order, and print the result.(replaced)\n",
        "import random\n",
        "random_numbers = [random.randint(1, 100) for _ in range(5)]\n",
        "random_numbers.sort()\n",
        "print(\"Sorted random numbers:\", random_numbers)"
      ],
      "metadata": {
        "colab": {
          "base_uri": "https://localhost:8080/"
        },
        "id": "o38OA0nM8-Jx",
        "outputId": "e85b7e10-e7bc-4fbb-bfb4-465d41818311"
      },
      "execution_count": 57,
      "outputs": [
        {
          "output_type": "stream",
          "name": "stdout",
          "text": [
            "Sorted random numbers: [8, 15, 29, 36, 60]\n"
          ]
        }
      ]
    },
    {
      "cell_type": "code",
      "source": [
        "#28. Write a code to create a list with strings and print the element at thethird index.\n",
        "string_list = [\"apple\", \"banana\", \"cherry\", \"date\", \"elderberry\"]\n",
        "print(\"Element at index 3:\", string_list[3])"
      ],
      "metadata": {
        "colab": {
          "base_uri": "https://localhost:8080/"
        },
        "id": "4s1U9HWt9C-W",
        "outputId": "74619676-a50a-4e78-83f7-9cbbb25ce991"
      },
      "execution_count": 58,
      "outputs": [
        {
          "output_type": "stream",
          "name": "stdout",
          "text": [
            "Element at index 3: date\n"
          ]
        }
      ]
    },
    {
      "cell_type": "code",
      "source": [
        "#29. Write a code to combine two dictionaries into one and print the result.\n",
        "\n",
        "dict1 = {'a': 1, 'b': 2}\n",
        "dict2 = {'c': 3, 'd': 4}\n",
        "combined_dict = {**dict1, **dict2}\n",
        "print(\"Combined Dictionary:\", combined_dict)"
      ],
      "metadata": {
        "colab": {
          "base_uri": "https://localhost:8080/"
        },
        "id": "TxH0tjyG9IJE",
        "outputId": "5f4dd968-d6f4-40ba-a7f3-06eb14f7df46"
      },
      "execution_count": 59,
      "outputs": [
        {
          "output_type": "stream",
          "name": "stdout",
          "text": [
            "Combined Dictionary: {'a': 1, 'b': 2, 'c': 3, 'd': 4}\n"
          ]
        }
      ]
    },
    {
      "cell_type": "code",
      "source": [
        "#30 Write a code to convert a list of strings into a set.\n",
        "\n",
        "string_list = [\"apple\", \"banana\", \"cherry\", \"apple\", \"banana\"]\n",
        "string_set = set(string_list)\n",
        "print(string_set)"
      ],
      "metadata": {
        "colab": {
          "base_uri": "https://localhost:8080/"
        },
        "id": "FMIuiDJ09L9n",
        "outputId": "1dea6dab-d8a1-4499-af4a-9ab8f18850f2"
      },
      "execution_count": 60,
      "outputs": [
        {
          "output_type": "stream",
          "name": "stdout",
          "text": [
            "{'cherry', 'banana', 'apple'}\n"
          ]
        }
      ]
    },
    {
      "cell_type": "code",
      "source": [],
      "metadata": {
        "id": "8Y34uExB_aU8"
      },
      "execution_count": null,
      "outputs": []
    }
  ]
}